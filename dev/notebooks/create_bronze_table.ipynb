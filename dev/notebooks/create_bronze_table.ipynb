{
 "cells": [
  {
   "cell_type": "markdown",
   "id": "b78f4fba",
   "metadata": {},
   "source": [
    "# Schema Bronze\n",
    "\n",
    "Autor: Thiago Vilarinho Lemes\\\n",
    "Projeto: ETL no Databricks utilizando Catalog \\\n",
    "Data: 14/09/2025"
   ]
  },
  {
   "cell_type": "code",
   "execution_count": 62,
   "id": "fdb5b6d0",
   "metadata": {},
   "outputs": [],
   "source": [
    "from databricks.connect import DatabricksSession\n",
    "from pyspark.sql import functions as F\n",
    "import os\n",
    "from dotenv import load_dotenv\n",
    "import pandas as pd"
   ]
  },
  {
   "cell_type": "code",
   "execution_count": 63,
   "id": "ea3083e7",
   "metadata": {},
   "outputs": [],
   "source": [
    "# Carrega as variáveis de ambiente do arquivo .env\n",
    "\n",
    "load_dotenv()\n",
    "\n",
    "catalog_name = os.getenv(\"NAME_CATALOG\")\n",
    "\n",
    "schema_bronze = os.getenv(\"NAME_SCHEMA_BRONZE\")\n",
    "table_bronze = os.getenv(\"NAME_TABLE_BRONZE\")\n",
    "\n",
    "schema_silver = os.getenv(\"NAME_SCHEMA_SILVER\")\n",
    "table_silver = os.getenv(\"NAME_TABLE_SILVER\")\n",
    "\n",
    "schema_gold = os.getenv(\"NAME_SCHEMA_GOLD\")\n",
    "table_gold = os.getenv(\"NAME_TABLE_GOLD\")\n",
    "\n",
    "schema_raw = os.getenv(\"NAME_SCHEMA_RAW\")\n",
    "bucket_raw = os.getenv(\"NAME_STORAGE\")"
   ]
  },
  {
   "cell_type": "code",
   "execution_count": 64,
   "id": "be90c815",
   "metadata": {},
   "outputs": [],
   "source": [
    "# Cria a sessão Spark usando Databricks Connect\n",
    "spark = DatabricksSession.builder.getOrCreate()"
   ]
  },
  {
   "cell_type": "code",
   "execution_count": 65,
   "id": "439c5057",
   "metadata": {},
   "outputs": [
    {
     "data": {
      "text/html": [
       "<table border=\"1\" class=\"dataframe\">\n",
       "  <thead>\n",
       "    <tr style=\"text-align: right;\">\n",
       "      <th></th>\n",
       "    </tr>\n",
       "  </thead>\n",
       "  <tbody>\n",
       "  </tbody>\n",
       "</table>"
      ],
      "text/plain": [
       "DataFrame[]"
      ]
     },
     "execution_count": 65,
     "metadata": {},
     "output_type": "execute_result"
    }
   ],
   "source": [
    "# Seleciona o catalog e schema a serem utilizados\n",
    "spark.sql(f\"USE CATALOG {catalog_name}\")\n",
    "spark.sql(f\"USE SCHEMA {schema_bronze}\")"
   ]
  },
  {
   "cell_type": "code",
   "execution_count": 66,
   "id": "a1e968a3",
   "metadata": {},
   "outputs": [
    {
     "name": "stdout",
     "output_type": "stream",
     "text": [
      "Arquivos Parquet carregados com sucesso.\n"
     ]
    }
   ],
   "source": [
    "try:\n",
    "    # Carrega os datasets dos arquivos Parquet\n",
    "    df_1 = pd.read_parquet(\"../../dataset/netflix_v01.parquet\")\n",
    "    df_2 = pd.read_parquet(\"../../dataset/netflix_v02.parquet\")\n",
    "\n",
    "    # Transforma os DataFrames do Pandas em DataFrames do Spark\n",
    "    df_1 = spark.createDataFrame(df_1)\n",
    "    df_2 = spark.createDataFrame(df_2)\n",
    "    print(\"Arquivos Parquet carregados com sucesso.\")\n",
    "except Exception as e:\n",
    "    print(\"Erro ao carregar os arquivos Parquet:\", e)\n",
    "    raise"
   ]
  },
  {
   "cell_type": "code",
   "execution_count": 57,
   "id": "420c3b37",
   "metadata": {},
   "outputs": [
    {
     "name": "stdout",
     "output_type": "stream",
     "text": [
      "DataFrame 1:\n",
      "Tamanho: 8807 linhas\n",
      "********************\n",
      "+-------+-------+--------------------+---------------+--------------------+-------------+------------------+------------+------+---------+--------------------+--------------------+\n",
      "|show_id|   type|               title|       director|                cast|      country|        date_added|release_year|rating| duration|           listed_in|         description|\n",
      "+-------+-------+--------------------+---------------+--------------------+-------------+------------------+------------+------+---------+--------------------+--------------------+\n",
      "|     s1|  Movie|Dick Johnson Is Dead|Kirsten Johnson|                NULL|United States|September 25, 2021|        2020| PG-13|   90 min|       Documentaries|As her father nea...|\n",
      "|     s2|TV Show|       Blood & Water|           NULL|Ama Qamata, Khosi...| South Africa|September 24, 2021|        2021| TV-MA|2 Seasons|International TV ...|After crossing pa...|\n",
      "|     s3|TV Show|           Ganglands|Julien Leclercq|Sami Bouajila, Tr...|         NULL|September 24, 2021|        2021| TV-MA| 1 Season|Crime TV Shows, I...|To protect his fa...|\n",
      "|     s4|TV Show|Jailbirds New Orl...|           NULL|                NULL|         NULL|September 24, 2021|        2021| TV-MA| 1 Season|Docuseries, Reali...|Feuds, flirtation...|\n",
      "|     s5|TV Show|        Kota Factory|           NULL|Mayur More, Jiten...|        India|September 24, 2021|        2021| TV-MA|2 Seasons|International TV ...|In a city of coac...|\n",
      "+-------+-------+--------------------+---------------+--------------------+-------------+------------------+------------+------+---------+--------------------+--------------------+\n",
      "only showing top 5 rows\n",
      "None\n",
      "\n",
      "\n",
      "DataFrame 2:\n",
      "Tamanho: 8702 linhas\n",
      "********************\n",
      "+-------+-------+--------------------+---------------+--------------------+-------------+----------+------------+------+---------+--------------------+--------------------+\n",
      "|show_id|   type|               title|       director|                cast|      country|date_added|release_year|rating| duration|           listed_in|         description|\n",
      "+-------+-------+--------------------+---------------+--------------------+-------------+----------+------------+------+---------+--------------------+--------------------+\n",
      "|     s1|  Movie|Dick Johnson Is Dead|Kirsten Johnson|                NULL|United States|2021-09-25|        2020| PG-13|   90 min|       Documentaries|As her father nea...|\n",
      "|     s2|TV Show|       Blood & Water|           NULL|Ama Qamata, Khosi...| South Africa|2021-09-24|        2021| TV-MA|2 Seasons|International TV ...|After crossing pa...|\n",
      "|     s3|TV Show|           Ganglands|Julien Leclercq|Sami Bouajila, Tr...|         NULL|2021-09-24|        2021| TV-MA| 1 Season|Crime TV Shows, I...|To protect his fa...|\n",
      "|     s4|TV Show|Jailbirds New Orl...|           NULL|                NULL|         NULL|2021-09-24|        2021| TV-MA| 1 Season|Docuseries, Reali...|Feuds, flirtation...|\n",
      "|     s5|TV Show|        Kota Factory|           NULL|Mayur More, Jiten...|        India|2021-09-24|        2021| TV-MA|2 Seasons|International TV ...|In a city of coac...|\n",
      "+-------+-------+--------------------+---------------+--------------------+-------------+----------+------------+------+---------+--------------------+--------------------+\n",
      "only showing top 5 rows\n",
      "None\n"
     ]
    }
   ],
   "source": [
    "# Verifica o schema e o tamanho dos DataFrames\n",
    "print(\"DataFrame 1:\")\n",
    "print(\"Tamanho:\", df_1.count(), \"linhas\")\n",
    "print(\"*\" * 20)\n",
    "print(df_1.show(5))\n",
    "print(\"\\n\")\n",
    "print(\"DataFrame 2:\")\n",
    "print(\"Tamanho:\", df_2.count(), \"linhas\")\n",
    "print(\"*\" * 20)\n",
    "print(df_2.show(5))"
   ]
  },
  {
   "cell_type": "markdown",
   "id": "91a491fb",
   "metadata": {},
   "source": [
    "Analise Exploratória"
   ]
  },
  {
   "cell_type": "code",
   "execution_count": 70,
   "id": "21b68cd0",
   "metadata": {},
   "outputs": [
    {
     "name": "stdout",
     "output_type": "stream",
     "text": [
      "Dataframe 1\n",
      "Quantidade de linha: 8807 linhas\n",
      "Quantidade de colunas: 12 colunas\n",
      "**************************************************\n",
      "Dataframe 2\n",
      "Quantidade de linha: 8702 linhas\n",
      "Quantidade de colunas: 12 colunas\n"
     ]
    }
   ],
   "source": [
    "# Quantidade de linhas e colunas dos DataFrames\n",
    "print(\"Dataframe 1\")\n",
    "print(f\"Quantidade de linha: {df_1.count()} linhas\")\n",
    "print(f\"Quantidade de colunas: {len(df_1.columns)} colunas\")\n",
    "print(\"*\" * 50)\n",
    "print(\"Dataframe 2\")\n",
    "print(f\"Quantidade de linha: {df_2.count()} linhas\")\n",
    "print(f\"Quantidade de colunas: {len(df_2.columns)} colunas\")"
   ]
  },
  {
   "cell_type": "code",
   "execution_count": null,
   "id": "f202e0e6",
   "metadata": {},
   "outputs": [
    {
     "name": "stdout",
     "output_type": "stream",
     "text": [
      "Colunas dos DataFrames 1\n",
      "['show_id', 'type', 'title', 'director', 'cast', 'country', 'date_added', 'release_year', 'rating', 'duration', 'listed_in', 'description']\n",
      "*******************************************************************************************************************************************\n",
      "Colunas dos DataFrames 2\n",
      "['show_id', 'type', 'title', 'director', 'cast', 'country', 'date_added', 'release_year', 'rating', 'duration', 'listed_in', 'description']\n",
      "*******************************************************************************************************************************************\n",
      "Os DataFrames possuem as mesmas colunas.\n"
     ]
    }
   ],
   "source": [
    "# Nome das colunas\n",
    "print(\"Colunas dos DataFrames 1\")\n",
    "print(df_1.columns)\n",
    "\n",
    "print(\"*\" * 139)\n",
    "\n",
    "print(\"Colunas dos DataFrames 2\")\n",
    "print(df_2.columns)\n",
    "\n",
    "print(\"*\" * 139)\n",
    "\n",
    "# Verifica se os DataFrames possuem as mesmas colunas para realizar o merge\n",
    "if set(df_1.columns) != set(df_2.columns):\n",
    "    raise ValueError(\"Os DataFrames possuem colunas diferentes.\")\n",
    "else:\n",
    "    print(\"Os DataFrames possuem as mesmas colunas.\")"
   ]
  },
  {
   "cell_type": "code",
   "execution_count": null,
   "id": "112fb030",
   "metadata": {},
   "outputs": [],
   "source": [
    "# 1° Forma - Realiza o merge dos datasets\n",
    "# df_combined = df_1.join(df_2, on=\"id\", how=\"outer\")  # outer join mantém todas as linhas"
   ]
  },
  {
   "cell_type": "code",
   "execution_count": null,
   "id": "fdfd840b",
   "metadata": {},
   "outputs": [],
   "source": [
    "# 2° Forma - Realiza o merge dos datasets\n",
    "df = df_1.unionByName(df_2)"
   ]
  },
  {
   "cell_type": "code",
   "execution_count": 59,
   "id": "18cfcc20",
   "metadata": {},
   "outputs": [
    {
     "name": "stdout",
     "output_type": "stream",
     "text": [
      "DataFrame:\n",
      "Tamanho: 17509 linhas\n",
      "*********************\n",
      "+-------+-------+---------------------+---------------+---------------------------------------------------------------------------------------------------------------------------------------------------------------------------------------------------------------------------------------------------------------------------------------------------------------+-------------+------------------+------------+------+---------+-------------------------------------------------------------+--------------------------------------------------------------------------------------------------------------------------------------------------------+\n",
      "|show_id|type   |title                |director       |cast                                                                                                                                                                                                                                                                                                           |country      |date_added        |release_year|rating|duration |listed_in                                                    |description                                                                                                                                             |\n",
      "+-------+-------+---------------------+---------------+---------------------------------------------------------------------------------------------------------------------------------------------------------------------------------------------------------------------------------------------------------------------------------------------------------------+-------------+------------------+------------+------+---------+-------------------------------------------------------------+--------------------------------------------------------------------------------------------------------------------------------------------------------+\n",
      "|s1     |Movie  |Dick Johnson Is Dead |Kirsten Johnson|NULL                                                                                                                                                                                                                                                                                                           |United States|September 25, 2021|2020        |PG-13 |90 min   |Documentaries                                                |As her father nears the end of his life, filmmaker Kirsten Johnson stages his death in inventive and comical ways to help them both face the inevitable.|\n",
      "|s2     |TV Show|Blood & Water        |NULL           |Ama Qamata, Khosi Ngema, Gail Mabalane, Thabang Molaba, Dillon Windvogel, Natasha Thahane, Arno Greeff, Xolile Tshabalala, Getmore Sithole, Cindy Mahlangu, Ryle De Morny, Greteli Fincham, Sello Maake Ka-Ncube, Odwa Gwanya, Mekaila Mathys, Sandi Schultz, Duane Williams, Shamilla Miller, Patrick Mofokeng|South Africa |September 24, 2021|2021        |TV-MA |2 Seasons|International TV Shows, TV Dramas, TV Mysteries              |After crossing paths at a party, a Cape Town teen sets out to prove whether a private-school swimming star is her sister who was abducted at birth.     |\n",
      "|s3     |TV Show|Ganglands            |Julien Leclercq|Sami Bouajila, Tracy Gotoas, Samuel Jouy, Nabiha Akkari, Sofia Lesaffre, Salim Kechiouche, Noureddine Farihi, Geert Van Rampelberg, Bakary Diombera                                                                                                                                                            |NULL         |September 24, 2021|2021        |TV-MA |1 Season |Crime TV Shows, International TV Shows, TV Action & Adventure|To protect his family from a powerful drug lord, skilled thief Mehdi and his expert team of robbers are pulled into a violent and deadly turf war.      |\n",
      "|s4     |TV Show|Jailbirds New Orleans|NULL           |NULL                                                                                                                                                                                                                                                                                                           |NULL         |September 24, 2021|2021        |TV-MA |1 Season |Docuseries, Reality TV                                       |Feuds, flirtations and toilet talk go down among the incarcerated women at the Orleans Justice Center in New Orleans on this gritty reality series.     |\n",
      "|s5     |TV Show|Kota Factory         |NULL           |Mayur More, Jitendra Kumar, Ranjan Raj, Alam Khan, Ahsaas Channa, Revathi Pillai, Urvi Singh, Arun Kumar                                                                                                                                                                                                       |India        |September 24, 2021|2021        |TV-MA |2 Seasons|International TV Shows, Romantic TV Shows, TV Comedies       |In a city of coaching centers known to train India’s finest collegiate minds, an earnest but unexceptional student and his friends navigate campus life.|\n",
      "+-------+-------+---------------------+---------------+---------------------------------------------------------------------------------------------------------------------------------------------------------------------------------------------------------------------------------------------------------------------------------------------------------------+-------------+------------------+------------+------+---------+-------------------------------------------------------------+--------------------------------------------------------------------------------------------------------------------------------------------------------+\n",
      "only showing top 5 rows\n"
     ]
    }
   ],
   "source": [
    "print(\"DataFrame:\")\n",
    "print(\"Tamanho:\", df.count(), \"linhas\")\n",
    "print(\"*\" * 21)\n",
    "df.show(5, truncate=False)"
   ]
  },
  {
   "cell_type": "code",
   "execution_count": 60,
   "id": "5b7c243c",
   "metadata": {},
   "outputs": [
    {
     "name": "stdout",
     "output_type": "stream",
     "text": [
      "DataFrames carregados com sucesso!\n"
     ]
    }
   ],
   "source": [
    "try:\n",
    "    df.write.format(\"delta\").mode(\"overwrite\").saveAsTable(f\"{catalog_name}.{schema_raw}.{bucket_raw}\")\n",
    "    print(\"DataFrames carregados com sucesso!\")\n",
    "except Exception as e:\n",
    "    print(f\"Erro ao carregar DataFrames: {e}\")"
   ]
  }
 ],
 "metadata": {
  "kernelspec": {
   "display_name": ".venv",
   "language": "python",
   "name": "python3"
  },
  "language_info": {
   "codemirror_mode": {
    "name": "ipython",
    "version": 3
   },
   "file_extension": ".py",
   "mimetype": "text/x-python",
   "name": "python",
   "nbconvert_exporter": "python",
   "pygments_lexer": "ipython3",
   "version": "3.11.0"
  }
 },
 "nbformat": 4,
 "nbformat_minor": 5
}
