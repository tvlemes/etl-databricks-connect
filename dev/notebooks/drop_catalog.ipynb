{
 "cells": [
  {
   "cell_type": "markdown",
   "id": "e2c9e043",
   "metadata": {},
   "source": [
    "# Drop Catalog\n",
    "\n",
    "Autor: Thiago Vilarinho Lemes\\\n",
    "Projeto: ETL no Databricks utilizando Catalog \\\n",
    "Data: 14/09/2025"
   ]
  },
  {
   "cell_type": "code",
   "execution_count": 4,
   "id": "4f3eed2c",
   "metadata": {},
   "outputs": [],
   "source": [
    "from databricks.connect import DatabricksSession\n",
    "import os\n",
    "from dotenv import load_dotenv"
   ]
  },
  {
   "cell_type": "code",
   "execution_count": 5,
   "id": "b8516078",
   "metadata": {},
   "outputs": [],
   "source": [
    "load_dotenv()\n",
    "\n",
    "catalog_name = os.getenv(\"NAME_CATALOG\")"
   ]
  },
  {
   "cell_type": "code",
   "execution_count": 7,
   "id": "3d3def17",
   "metadata": {},
   "outputs": [],
   "source": [
    "# Cria a sessão Spark usando Databricks Connect\n",
    "spark = DatabricksSession.builder.getOrCreate()"
   ]
  },
  {
   "cell_type": "code",
   "execution_count": null,
   "id": "b24e6838",
   "metadata": {},
   "outputs": [],
   "source": [
    "spark.sql(f\"DROP CATALOG IF EXISTS {catalog_name} CASCADE\")"
   ]
  }
 ],
 "metadata": {
  "kernelspec": {
   "display_name": ".venv",
   "language": "python",
   "name": "python3"
  },
  "language_info": {
   "codemirror_mode": {
    "name": "ipython",
    "version": 3
   },
   "file_extension": ".py",
   "mimetype": "text/x-python",
   "name": "python",
   "nbconvert_exporter": "python",
   "pygments_lexer": "ipython3",
   "version": "3.11.0"
  }
 },
 "nbformat": 4,
 "nbformat_minor": 5
}
