{
 "cells": [
  {
   "cell_type": "markdown",
   "id": "81f42205",
   "metadata": {},
   "source": [
    "# Limpar Cache do Spark\n",
    "\n",
    "Autor: Thiago Vilarinho Lemes\\\n",
    "Projeto: ETL no Databricks utilizando Catalog \\\n",
    "Data: 14/09/2025"
   ]
  },
  {
   "cell_type": "code",
   "execution_count": null,
   "id": "9d3b1c0b",
   "metadata": {},
   "outputs": [],
   "source": [
    "from pyspark.sql import SparkSession"
   ]
  },
  {
   "cell_type": "code",
   "execution_count": null,
   "id": "6f04e18e",
   "metadata": {},
   "outputs": [],
   "source": [
    "# Para evitar conflitos, certifique-se de que não há sessões Spark ativas \n",
    "spark.stop()"
   ]
  },
  {
   "cell_type": "code",
   "execution_count": null,
   "id": "f652a787",
   "metadata": {},
   "outputs": [],
   "source": [
    "# Iniciando uma nova sessão Spark\n",
    "spark = SparkSession.builder \\\n",
    "    .appName(\"MeuAppLimpo\") \\\n",
    "    .getOrCreate()"
   ]
  }
 ],
 "metadata": {
  "language_info": {
   "name": "python"
  }
 },
 "nbformat": 4,
 "nbformat_minor": 5
}
